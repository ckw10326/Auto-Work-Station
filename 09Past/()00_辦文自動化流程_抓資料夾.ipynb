{
  "cells": [
    {
      "attachments": {},
      "cell_type": "markdown",
      "metadata": {
        "id": "qEgvgWR2jD5F"
      },
      "source": [
        "# Move_Docutment(目前只能抓23年的資料)\n",
        "雲端完成、Home完成、Company*未*完成\n",
        "1..詢問關鍵字\n",
        "2.生成目標路徑\n",
        "3.複製目標資料夾，輸出路徑"
      ]
    },
    {
      "cell_type": "code",
      "execution_count": null,
      "metadata": {
        "colab": {
          "base_uri": "https://localhost:8080/",
          "height": 435
        },
        "id": "G2Gxtmw6jLIu",
        "outputId": "9133f487-16cc-4f30-ca26-fbd91571e7c3"
      },
      "outputs": [],
      "source": [
        "#簡化修正版\n",
        "#cd C:\\Users\\OXO\\OneDrive\\01 Book\\00 Test program\n",
        "#pyinstaller -F Pack.py\n",
        "import shutil\n",
        "import os #用來避免檔案已經存在的異常\n",
        "# TC_abbreviation = [\"TPC\", \"TC(C0))\", \"CD\", \"23\"]\n",
        "# HT_abbreviation = [\"HT\", \"D1\", \"CTC\", \"GEL\", \"23\"]\n",
        "Easy_Dict = {\"1\":\"HT\", \"2\":\"TC\", \"99\":\"\"}\n",
        "Plan_Dict = {\"HT\" : [\"HT\", \"D1\", \"CTC\", \"GEL\", \"23\"],\n",
        "             \"TC\" : [\"TPC\", \"TC(C0)\", \"CD\", \"23\"]}\n",
        "Cloud_HT = r\"/content/sample_data/\"\n",
        "Cloud_TC = r\"/content/sample_data/\"\n",
        "Home_HT = r\"C:\\Users\\OXO\\OneDrive\\01 Book\\00 Test program\\HT\"\n",
        "Home_TC = r\"C:\\Users\\OXO\\OneDrive\\01 Book\\00 Test program\\TC\"\n",
        "Source_Company_HT = r\"\\\\10.162.10.58\\全處共用區\\_Dwg\\興達電廠燃氣機組更新計畫\"\n",
        "destny_Company_HT = r\"D:\\00 興達計劃\\05 EPC提供資料\\HT\"\n",
        "Source_Company_TC = r\"\\\\10.162.10.58\\全處共用區\\_Dwg\\台中發電廠新建燃氣機組計畫\"\n",
        "destny_Company_TC = r\"D:\\00 台中計劃\\05 EPC提供資料\\TC\"\n",
        "Source_Customized = \"\"\n",
        "destny_Customized = \"\"\n",
        "\n",
        "#輸入 手動keyin\n",
        "#輸出 計畫代號、完整文號\n",
        "def Get_DocNo():\n",
        "    # PlanNo :  1 = 興達計畫, 2 = 台中計畫, 99 = 指定路徑\n",
        "    PlanNo = input(\"請輸入計畫\\n興達請輸入\\\"1\\\" \\n台中請輸入\\\"2\\\" \\n自訂計畫請輸入\\\"99\\\":\")\n",
        "    DocNo = \"\"\n",
        "    if PlanNo == \"99\" :\n",
        "        DocNo = input(\"請輸入您的文號:\")\n",
        "    else:\n",
        "        Doc_Num = str(input(\"請輸入號碼(1234):\"))\n",
        "        File_a = Plan_Dict.get(Easy_Dict.get(PlanNo, 'f'))\n",
        "        DocNo = \"-\".join(File_a) + \"-\" + Doc_Num\n",
        "    print(\"PlanNo:\", PlanNo)\n",
        "    print(\"DocNo:\", DocNo)\n",
        "    print(\"Get_DocNo() Done!\")\n",
        "    print(\"-------------------------------------------------------------\")         \n",
        "    return PlanNo, DocNo\n",
        "\n",
        "#輸入 計畫代號、完整文號\n",
        "#輸出 來源路徑、最終路徑\n",
        "def Gen_path(PlanNo, DocNo):\n",
        "    # PathWay : 1 = 雲端硬碟路徑  # 2 = 家庭硬碟路徑    # 3 = 公司硬碟路徑  # 0 = 指定路徑\n",
        "    # PlanNo :  1 = 興達計畫, 2 = 台中計畫, 99 = 指定路徑\n",
        "    path_map = {\n",
        "        \"11\":(Cloud_HT, Cloud_HT),\n",
        "        \"12\":(Cloud_TC, Cloud_TC),\n",
        "        \"21\":(Home_HT, Home_HT),\n",
        "        \"22\":(Home_TC, Home_TC),\n",
        "        \"31\":(Source_Company_HT, destny_Company_HT),\n",
        "        \"32\":(Source_Company_TC, destny_Company_TC),\n",
        "        \"0\":(\"\",\"\"),\n",
        "    }\n",
        "    PathWay = input(\"請輸入使用路徑(0 = 自訂, 1 = 雲端, 2 = 家庭, 3 = 公司 ：)\")\n",
        "    source_folder = \"\"\n",
        "    dest_folder = \"\"\n",
        "\n",
        "    if PathWay == \"0\":\n",
        "        source_folder = input(\"請輸入您的來源路徑 :\") + \"\\\\\" + DocNo\n",
        "        dest_folder = input(\"請輸入您的目的路徑 :\") + \"\\\\\" + \"new\" +DocNo\n",
        "    else:\n",
        "        source_folder, dest_folder = path_map[PathWay + PlanNo][0] + \"//\" + DocNo, path_map[PathWay + PlanNo][1] + Easy_Dict.get(PlanNo, 'f') +\"_\" +DocNo\n",
        "    print(\"source_folder:\", source_folder)\n",
        "    print(\"dest_folder:\", dest_folder)\n",
        "    print(\"Gen_path(PlanNo, DocNo), done!\")\n",
        "    print(\"-------------------------------------------------------------\")   \n",
        "    return source_folder, dest_folder\n",
        "#輸入 來源路徑、最終路徑\n",
        "#輸出 執行複製後，顯示最終路徑\n",
        "def move_docutment(source_folder, dest_folder):\n",
        "    #確認是否存在Source_folder\n",
        "    if os.path.exists(source_folder):\n",
        "        print(\"已找到指定資料夾\")\n",
        "        #若存在dest_folder，則刪除\n",
        "        if os.path.exists(dest_folder):\n",
        "            if int(input(\"資料夾已存在，請選擇保留請輸入 0 或刪除重新複製請輸入 1:\")):\n",
        "                print(\"您選擇1，重新複製資料夾\")\n",
        "                shutil.rmtree(dest_folder)\n",
        "                shutil.copytree(source_folder, dest_folder)\n",
        "            else:\n",
        "                print(\"您選擇保留原本資料夾按 0，不複製\")\n",
        "        else:\n",
        "            shutil.copytree(source_folder, dest_folder)\n",
        "    else:\n",
        "        print(\"查「無」指定資料夾\")\n",
        "    print(\"move_docutment(source_folder, dest_folder), done!\")\n",
        "    print(\"dest_folder:\",dest_folder)\n",
        "    print(\"-------------------------------------------------------------\")   \n",
        "    return dest_folder\n",
        "\n",
        "PlanNo, DocNo = Get_DocNo()\n",
        "print(PlanNo)\n",
        "print(DocNo)\n",
        "source_folder, dest_folder =Gen_path(PlanNo, DocNo)\n",
        "print(source_folder)\n",
        "print(dest_folder)\n",
        "dest_folder = move_docutment(source_folder, dest_folder)\n",
        "input(\"Press enter to exit...\")\n",
        "# PathWay : 1 = 雲端硬碟路徑  # 2 = 家庭硬碟路徑    # 3 = 公司硬碟路徑  # 0 = 指定路徑\n",
        "# PlanNo :  1 = 興達計畫, 2 = 台中計畫, 99 = 指定路徑"
      ]
    },
    {
      "attachments": {},
      "cell_type": "markdown",
      "metadata": {
        "id": "DYNAfJkCypil"
      },
      "source": [
        "## Read_EXCEL"
      ]
    },
    {
      "attachments": {},
      "cell_type": "markdown",
      "metadata": {
        "id": "f8TwoWN5L_bX"
      },
      "source": [
        "# Read TC"
      ]
    },
    {
      "cell_type": "code",
      "execution_count": null,
      "metadata": {
        "colab": {
          "base_uri": "https://localhost:8080/"
        },
        "id": "CuSJiZT0vz-k",
        "outputId": "6ccfe5a8-0ce1-4f3d-d71b-c5daa5878266"
      },
      "outputs": [],
      "source": [
        "import os\n",
        "import openpyxl\n",
        "import pandas as pd\n",
        "\n",
        "#輸入 目錄路徑\n",
        "#輸出 1.螢幕相關資料   2.整個資料夾的Excel檔案彙整\n",
        "def Read_TC_Excel(folder_path):\n",
        "    #遍歷所有資料夾、檔案\n",
        "    Excute_Num_block = []\n",
        "    DrawingNo_block = []#J2\n",
        "    Drawing_Title_block = []#F2\n",
        "    DrawinVision_block = []#G2\n",
        "    Letter_Num_block = []#A2\n",
        "    Letter_Date_block = []#C2\n",
        "    Letter_title_block =[]#I2\n",
        "    file_path_block = []\n",
        "    filetype = \".xlsm\" if \"CTC\" in folder_path else \".xlsm\"\n",
        "    for root, dirs, files in os.walk(folder_path):\n",
        "        for file in files:\n",
        "            #比對副檔名條件\n",
        "            if file.endswith(filetype):\n",
        "                file_path = os.path.join(root, file)\n",
        "                #確認 1.無檔案 2.非有效Excel檔\n",
        "                try:\n",
        "                    # 開啟 Excel 檔案\n",
        "                    workbook = openpyxl.load_workbook(file_path)\n",
        "                    # 選取Data1工作表\n",
        "                    worksheet = workbook['Data1']\n",
        "                    #讀取表格文件數量\n",
        "                    DrawingsNums = 0\n",
        "                    for i in range(0,19):\n",
        "                      if worksheet[\"A\"+str(2+i)].value:\n",
        "                        DrawingsNums = 1 + DrawingsNums\n",
        "                      else:\n",
        "                          break\n",
        "                    #讀取資料\n",
        "                    for i in range(0,DrawingsNums):\n",
        "                        #print(\"讀取路徑\", file_path, \"第\",i+1,\"個檔案\", )\n",
        "                        DrawingNo_value = worksheet[\"J\"+str(2+i)].value\n",
        "                        Drawing_Title_value = worksheet[\"F\"+str(2+i)].value\n",
        "                        DrawinVision_value = worksheet[\"G\"+str(2+i)].value\n",
        "                        Letter_Num_value = worksheet[\"A2\"].value\n",
        "                        Letter_Date_value = worksheet[\"C2\"].value\n",
        "                        Letter_titl_value = worksheet[\"I2\"].value\n",
        "                        \n",
        "                        Excute_Num_block.append(i)\n",
        "                        DrawingNo_block.append(DrawingNo_value)\n",
        "                        Drawing_Title_block.append(Drawing_Title_value)\n",
        "                        DrawinVision_block.append(DrawinVision_value)\n",
        "                        Letter_Num_block.append(Letter_Num_value)#來文號碼B2\n",
        "                        Letter_Date_block.append(Letter_Date_value)#來文日期H2\n",
        "                        Letter_title_block.append(Letter_titl_value)#來文標題O2\n",
        "                        file_path_block.append(file_path)\n",
        "\n",
        "                        print(\"------------------------\")\n",
        "                        print(\"批次序號\",i)\n",
        "                        print(\"圖號:\",DrawingNo_value)\n",
        "                        print(\"圖名:\",Drawing_Title_value)\n",
        "                        print(\"版次:\",DrawinVision_value)\n",
        "                        print(\"來文號碼:\",worksheet[\"A2\"].value)\n",
        "                        print(\"來文日期:\",worksheet[\"C2\"].value)\n",
        "                        print(\"來文名稱:\",worksheet[\"I2\"].value)\n",
        "                        print(\"路徑\",file_path)\n",
        "                        print(\"------------------------\")\n",
        "                    workbook.close()\n",
        "                except FileNotFoundError:\n",
        "                    # 處理找不到檔案的錯誤\n",
        "                    print(\"找不到檔案:\", file_path)\n",
        "                except openpyxl.utils.exceptions.InvalidFileException:\n",
        "                    # 處理無效的 Excel 檔案的錯誤\n",
        "                    print(\"無效的 Excel 檔案:\", file_path)\n",
        "\n",
        "    data = {'批次序號': Excute_Num_block,\n",
        "            '圖號': DrawingNo_block,\n",
        "            '圖名': Drawing_Title_block,\n",
        "            '版次': DrawinVision_block,\n",
        "            '來文號碼': Letter_Num_block,\n",
        "            '來文日期': Letter_Date_block,\n",
        "            '來文名稱': Letter_title_block,\n",
        "            '路徑': file_path_block\n",
        "            }\n",
        "    df = pd.DataFrame(data)\n",
        "\n",
        "    #輸出Excel檔案\n",
        "    OutputName = 'TC_output.xlsx'\n",
        "    Output_path = os.path.join(folder_path, OutputName)\n",
        "    df.to_excel(Output_path, index=False)\n",
        "    print(\"完成輸出檔案\\n路徑:\",Output_path,\"\\n檔名:\",OutputName)\n",
        "\n",
        "#全路徑參考目錄\n",
        "Cloud_path = r\"/content/sample_data/TC\"\n",
        "Home_path = r\"C:\\Users\\OXO\\OneDrive\\01 Book\\00 Test program\\TC\"\n",
        "Company_path = r\"D:\\\\00 興達計劃\\\\05 EPC提供資料\\\\TC/0TPC-TC(C0)-CD-23-0004\"\n",
        "path_map = {\"0\":Test_Path, \"1\" : Cloud_path, \"2\" : Home_path, \"3\" : Company_path}\n",
        "#調試路徑\n",
        "Test_Path = r\"/content/sample_data/\"\n",
        "\n",
        "#qwe = input(\"請輸入路徑(因程式尚未完成，暫時性方案):\\n測試路徑 0\\n雲端路徑 1\\n家庭路徑 2\\n公司路徑3\\n \")\n",
        "#The_Excel_folder = path_map[qwe]\n",
        "Test_Path = input(\"請輸入路徑:\")\n",
        "Read_TC_Excel(Test_Path)\n"
      ]
    },
    {
      "attachments": {},
      "cell_type": "markdown",
      "metadata": {
        "id": "JDWqSfCJMPj7"
      },
      "source": [
        "# Convert .xlsb to .xlsx (only for NewHT Doc)"
      ]
    },
    {
      "cell_type": "code",
      "execution_count": null,
      "metadata": {
        "colab": {
          "base_uri": "https://localhost:8080/"
        },
        "id": "lef4COEmEo-2",
        "outputId": "54bcbc58-14eb-400c-88a8-03b83e7b5910"
      },
      "outputs": [],
      "source": [
        "pip install pyxlsb"
      ]
    },
    {
      "cell_type": "code",
      "execution_count": null,
      "metadata": {
        "colab": {
          "base_uri": "https://localhost:8080/"
        },
        "id": "FTmNNQj7-Gcb",
        "outputId": "df41653a-0f4b-4018-f51f-c04899ac5d55"
      },
      "outputs": [
        {
          "name": "stdout",
          "output_type": "stream",
          "text": [
            "請輸入HT文號末4碼:1796\n",
            "文件號碼:HT-D1-CTC-GEL-23-1796.xlsb\n",
            "處理路徑:/content/sample_data/HT-D1-CTC-GEL-23-1796.xlsb\n",
            "輸出路徑:\n",
            "\"/content/sample_data/HT-D1-CTC-GEL-23-1796.xlsx\"\n"
          ]
        }
      ],
      "source": [
        "#解析xlsb成.xlsx\n",
        "import pandas as pd\n",
        "import datetime\n",
        "now = datetime.datetime.now()\n",
        "num = input(\"請輸入HT文號末4碼:\")\n",
        "file_name = \"HT-D1-CTC-GEL-23-\" + num + \".xlsb\"\n",
        "print(\"文件號碼:\"+file_name)\n",
        "The_Path = r'/content/sample_data/'\n",
        "All_path = The_Path + file_name\n",
        "print(\"處理路徑:\"+All_path)\n",
        "outpath_path = r'/content/sample_data/' + \"HT-D1-CTC-GEL-23-\" + num + \".xlsx\"\n",
        "print(\"輸出路徑:\\n\"+'\\\"' + outpath_path + '\\\"')\n",
        "\n",
        "df = pd.read_excel(All_path, sheet_name='Data1', engine='pyxlsb')\n",
        "df.to_excel(outpath_path)"
      ]
    },
    {
      "cell_type": "code",
      "execution_count": null,
      "metadata": {
        "id": "yI7Jkj9K1pNx"
      },
      "outputs": [],
      "source": [
        "#自動全部掃描，資料夾，不須輸入關鍵字\n",
        "import pandas as pd\n",
        "import datetime\n",
        "path = r'/content/sample_data/TC_TPC-'\n",
        "num = input(\"請輸入HT文號末4碼:\")\n",
        "file_name = \"HT-D1-CTC-GEL-23-\" + num + \".xlsb\"\n",
        "print(\"文件號碼:\"+file_name)\n",
        "The_Path = r'/content/sample_data/'\n",
        "All_path = The_Path + file_name\n",
        "print(\"處理路徑:\"+All_path)\n",
        "outpath_path = r'/content/sample_data/' + \"HT-D1-CTC-GEL-23-\" + num + \".xlsx\"\n",
        "print(\"輸出路徑:\\n\"+'\\\"' + outpath_path + '\\\"')\n",
        "\n",
        "df = pd.read_excel(All_path, sheet_name='Data1', engine='pyxlsb')\n",
        "df.to_excel(outpath_path)"
      ]
    },
    {
      "attachments": {},
      "cell_type": "markdown",
      "metadata": {
        "id": "-9Eu7G0vMJhB"
      },
      "source": [
        "# Read HT"
      ]
    },
    {
      "cell_type": "code",
      "execution_count": null,
      "metadata": {
        "colab": {
          "base_uri": "https://localhost:8080/"
        },
        "id": "poByBgwYCRkG",
        "outputId": "b7c5227a-e1e0-4a30-eb70-a541e7694c1d"
      },
      "outputs": [
        {
          "name": "stdout",
          "output_type": "stream",
          "text": [
            "完成輸出檔案\n",
            "路徑: /content/sample_data/HT_output.xlsx \n",
            "檔名: HT_output.xlsx\n"
          ]
        }
      ],
      "source": [
        "#HT測試\n",
        "# 指定要歷遍讀取的資料夾路徑●●●●●●●●●●●\n",
        "import os\n",
        "import openpyxl\n",
        "import pandas as pd\n",
        "#輸入 目錄路徑\n",
        "#輸出 1.螢幕相關資料   2.整個資料夾的Excel檔案彙整\n",
        "\n",
        "def Read_HT_Excel(folder_path):\n",
        "    #遍歷所有資料夾、檔案\n",
        "    Excute_Num_block = []\n",
        "    DrawingNo_block = []#J2\n",
        "    Drawing_Title_block = []#F2\n",
        "    DrawinVision_block = []#G2\n",
        "    Letter_Num_block = []#A2\n",
        "    Letter_Date_block = []#C2\n",
        "    Letter_title_block =[]#I2\n",
        "    file_path_block = []\n",
        "    filetype = \".xlsx\"\n",
        "    for root, dirs, files in os.walk(folder_path):\n",
        "        for file in files:\n",
        "            #比對副檔名條件\n",
        "            if file.endswith(filetype) * file.count(\"-\") > 3:\n",
        "                file_path = os.path.join(root, file)\n",
        "                #確認 1.無檔案 2.非有效Excel檔\n",
        "                try:\n",
        "                    # 開啟 Excel 檔案\n",
        "                    workbook = openpyxl.load_workbook(file_path)\n",
        "                    # 選取Data1工作表\n",
        "                    #●●注意因為.xlsb轉檔為.xlsx，所以已不須讀取分頁●●\n",
        "                    #worksheet = workbook['Data1']\n",
        "                    worksheet = workbook.active\n",
        "                    #讀取表格文件數量\n",
        "                    DrawingsNums = 0\n",
        "                    for i in range(0,19):\n",
        "                      if worksheet[\"B\"+str(2+i)].value:\n",
        "                        DrawingsNums = 1 + DrawingsNums\n",
        "                      else:\n",
        "                          break\n",
        "                    print(\"文件數量\",DrawingsNums)\n",
        "\n",
        "                    #讀取資料\n",
        "                    for i in range(0,DrawingsNums):\n",
        "                        #print(\"讀取路徑\", file_path, \"第\",i+1,\"個檔案\", )\n",
        "                        #●●注意因為.xlsb轉檔為.xlsx，所以位置A>B, B>C●●\n",
        "                        DrawingNo_value = worksheet[\"E\"+str(2+i)].value#E2\n",
        "                        Drawing_Title_value = worksheet[\"F\"+str(2+i)].value\n",
        "                        DrawinVision_value = worksheet[\"G\"+str(2+i)].value\n",
        "                        Letter_Num_value = worksheet[\"B2\"].value\n",
        "                        Letter_Date_value = worksheet[\"H2\"].value\n",
        "                        Letter_titl_value = worksheet[\"O2\"].value\n",
        "                        \n",
        "                        Excute_Num_block.append(i)\n",
        "                        DrawingNo_block.append(DrawingNo_value)\n",
        "                        Drawing_Title_block.append(Drawing_Title_value)#F2\n",
        "                        DrawinVision_block.append(DrawinVision_value)#F2\n",
        "                        Letter_Num_block.append(Letter_Num_value)#來文號碼B2\n",
        "                        Letter_Date_block.append(Letter_Date_value)#來文日期H2\n",
        "                        Letter_title_block.append(Letter_titl_value)#來文標題O2\n",
        "                        file_path_block.append(file_path)\n",
        "\n",
        "                        print(\"------------------------\")\n",
        "                        print(\"批次序號\",i)\n",
        "                        print(\"圖號:\",DrawingNo_value)\n",
        "                        print(\"圖名:\",Drawing_Title_value)\n",
        "                        print(\"版次:\",DrawinVision_value)\n",
        "                        print(\"來文號碼:\",worksheet[\"B2\"].value)\n",
        "                        print(\"來文日期:\",worksheet[\"H2\"].value)\n",
        "                        print(\"來文名稱:\",worksheet[\"O2\"].value)\n",
        "                        print(\"路徑\",file_path)\n",
        "                        print(\"------------------------\")\n",
        "                        print(Letter_titl_value, DrawinVision_value, Letter_Num_value, Letter_Date_value)\n",
        "                        return Letter_titl_value, DrawinVision_value, Letter_Num_value, Letter_Date_value\n",
        "                    workbook.close()\n",
        "                except FileNotFoundError:\n",
        "                    # 處理找不到檔案的錯誤\n",
        "                    print(\"找不到檔案:\", file_path)\n",
        "                except openpyxl.utils.exceptions.InvalidFileException:\n",
        "                    # 處理無效的 Excel 檔案的錯誤\n",
        "                    print(\"無效的 Excel 檔案:\", file_path)\n",
        "\n",
        "    data = {'批次序號': Excute_Num_block,\n",
        "            '圖號': DrawingNo_block,\n",
        "            '圖名': Drawing_Title_block,\n",
        "            '版次': DrawinVision_block,\n",
        "            '來文號碼': Letter_Num_block,\n",
        "            '來文日期': Letter_Date_block,\n",
        "            '來文名稱': Letter_title_block,\n",
        "            '路徑': file_path_block\n",
        "            }\n",
        "    df = pd.DataFrame(data)\n",
        "\n",
        "    #輸出Excel檔案\n",
        "    OutputName = 'HT_output.xlsx'\n",
        "    Output_path = os.path.join(folder_path, OutputName)\n",
        "    df.to_excel(Output_path, index=False)\n",
        "    print(\"完成輸出檔案\\n路徑:\",Output_path,\"\\n檔名:\",OutputName)\n",
        "\n",
        "\n",
        "#全路徑參考目錄\n",
        "Test_Path = r\"/content/sample_data/\"\n",
        "Cloud_path = r\"/content/sample_data/TC\"\n",
        "Home_path = r\"C:\\Users\\OXO\\OneDrive\\01 Book\\00 Test program\\TC\"\n",
        "Company_path = r\"D:\\\\00 興達計劃\\\\05 EPC提供資料\\\\TC/0TPC-TC(C0)-CD-23-0004\"\n",
        "path_map = {\"0\":Test_Path, \"1\" : Cloud_path, \"2\" : Home_path, \"3\" : Company_path}\n",
        "#調試路徑\n",
        "\n",
        "Read_HT_Excel(Test_Path)"
      ]
    },
    {
      "attachments": {},
      "cell_type": "markdown",
      "metadata": {
        "id": "uoA1FDcket7E"
      },
      "source": [
        "#TC"
      ]
    },
    {
      "cell_type": "code",
      "execution_count": null,
      "metadata": {
        "id": "8CBPC7o7ek7V"
      },
      "outputs": [],
      "source": [
        "# 指定要歷遍讀取的資料夾路徑●●●●●●●●●●●\n",
        "import os\n",
        "import openpyxl\n",
        "import pandas as pd\n",
        "\n",
        "#輸入 目錄路徑\n",
        "#輸出 1.螢幕相關資料   2.整個資料夾的Excel檔案彙整\n",
        "def Read_TC_Excel(folder_path):\n",
        "    #遍歷所有資料夾、檔案\n",
        "    Excute_Num_block = []\n",
        "    DrawingNo_block = []#J2\n",
        "    Drawing_Title_block = []#F2\n",
        "    DrawinVision_block = []#G2\n",
        "    Letter_Num_block = []#A2\n",
        "    Letter_Date_block = []#C2\n",
        "    Letter_title_block =[]#I2\n",
        "    file_path_block = []\n",
        "    filetype = \".xlsm\" if \"CTC\" in folder_path else \".xlsm\"\n",
        "    for root, dirs, files in os.walk(folder_path):\n",
        "        for file in files:\n",
        "            #比對副檔名條件\n",
        "            if file.endswith(filetype):\n",
        "                file_path = os.path.join(root, file)\n",
        "                #確認 1.無檔案 2.非有效Excel檔\n",
        "                try:\n",
        "                    # 開啟 Excel 檔案\n",
        "                    workbook = openpyxl.load_workbook(file_path)\n",
        "                    # 選取Data1工作表\n",
        "                    worksheet = workbook['Data1']\n",
        "                    #讀取表格文件數量\n",
        "                    DrawingsNums = 0\n",
        "                    for i in range(0,19):\n",
        "                      if worksheet[\"A\"+str(2+i)].value:\n",
        "                        DrawingsNums = 1 + DrawingsNums\n",
        "                      else:\n",
        "                          break\n",
        "                    #讀取資料\n",
        "                    for i in range(0,DrawingsNums):\n",
        "                        #print(\"讀取路徑\", file_path, \"第\",i+1,\"個檔案\", )\n",
        "                        DrawingNo_value = worksheet[\"J\"+str(2+i)].value\n",
        "                        Drawing_Title_value = worksheet[\"F\"+str(2+i)].value\n",
        "                        DrawinVision_value = worksheet[\"G\"+str(2+i)].value\n",
        "                        Letter_Num_value = worksheet[\"A2\"].value\n",
        "                        Letter_Date_value = worksheet[\"D2\"].value\n",
        "                        Letter_titl_value = worksheet[\"I2\"].value\n",
        "                        \n",
        "                        Excute_Num_block.append(i)\n",
        "                        DrawingNo_block.append(DrawingNo_value)\n",
        "                        Drawing_Title_block.append(Drawing_Title_value)\n",
        "                        DrawinVision_block.append(DrawinVision_value)\n",
        "                        Letter_Num_block.append(Letter_Num_value)#來文號碼B2\n",
        "                        Letter_Date_block.append(Letter_Date_value)#來文日期H2\n",
        "                        Letter_title_block.append(Letter_titl_value)#來文標題O2\n",
        "                        file_path_block.append(file_path)\n",
        "\n",
        "                        print(\"------------------------\")\n",
        "                        print(\"批次序號\",i)\n",
        "                        print(\"圖號:\",DrawingNo_value)\n",
        "                        print(\"圖名:\",Drawing_Title_value)\n",
        "                        print(\"版次:\",DrawinVision_value)\n",
        "                        print(\"來文號碼:\",Letter_Num_value)\n",
        "                        print(\"來文日期:\",Letter_Date_value)\n",
        "                        print(\"來文名稱:\",Letter_titl_value)\n",
        "                        print(\"路徑\",file_path)\n",
        "                        print(\"------------------------\")\n",
        "                        print(Letter_titl_value, DrawinVision_value, Letter_Num_value, Letter_Date_value)\n",
        "                        return Letter_titl_value, DrawinVision_value, Letter_Num_value, Letter_Date_value\n",
        "                    workbook.close()\n",
        "                except FileNotFoundError:\n",
        "                    # 處理找不到檔案的錯誤\n",
        "                    print(\"找不到檔案:\", file_path)\n",
        "                except openpyxl.utils.exceptions.InvalidFileException:\n",
        "                    # 處理無效的 Excel 檔案的錯誤\n",
        "                    print(\"無效的 Excel 檔案:\", file_path)\n",
        "\n",
        "    data = {'批次序號': Excute_Num_block,\n",
        "            '圖號': DrawingNo_block,\n",
        "            '圖名': Drawing_Title_block,\n",
        "            '版次': DrawinVision_block,\n",
        "            '來文號碼': Letter_Num_block,\n",
        "            '來文日期': Letter_Date_block,\n",
        "            '來文名稱': Letter_title_block,\n",
        "            '路徑': file_path_block\n",
        "            }\n",
        "    df = pd.DataFrame(data)\n",
        "\n",
        "    #輸出Excel檔案\n",
        "    OutputName = 'TC_output.xlsx'\n",
        "    Output_path = os.path.join(folder_path, OutputName)\n",
        "    df.to_excel(Output_path, index=False)\n",
        "    print(\"完成輸出檔案\\n路徑:\",Output_path,\"\\n檔名:\",OutputName)\n"
      ]
    },
    {
      "attachments": {},
      "cell_type": "markdown",
      "metadata": {
        "id": "_z-Xee2we4RV"
      },
      "source": [
        "#HT"
      ]
    },
    {
      "cell_type": "code",
      "execution_count": null,
      "metadata": {
        "id": "CBqPg8ZDez_8"
      },
      "outputs": [],
      "source": [
        "def Read_HT_Excel(folder_path):\n",
        "    #遍歷所有資料夾、檔案\n",
        "    Excute_Num_block = []\n",
        "    DrawingNo_block = []#J2\n",
        "    Drawing_Title_block = []#F2\n",
        "    DrawinVision_block = []#G2\n",
        "    Letter_Num_block = []#A2\n",
        "    Letter_Date_block = []#C2\n",
        "    Letter_title_block =[]#I2\n",
        "    file_path_block = []\n",
        "    filetype = \".xlsx\"\n",
        "    for root, dirs, files in os.walk(folder_path):\n",
        "        for file in files:\n",
        "            #比對副檔名條件\n",
        "            if file.endswith(filetype) * file.count(\"-\") > 3:\n",
        "                file_path = os.path.join(root, file)\n",
        "                #確認 1.無檔案 2.非有效Excel檔\n",
        "                try:\n",
        "                    # 開啟 Excel 檔案\n",
        "                    workbook = openpyxl.load_workbook(file_path)\n",
        "                    # 選取Data1工作表\n",
        "                    #●●注意因為.xlsb轉檔為.xlsx，所以已不須讀取分頁●●\n",
        "                    #worksheet = workbook['Data1']\n",
        "                    worksheet = workbook.active\n",
        "                    #讀取表格文件數量\n",
        "                    DrawingsNums = 0\n",
        "                    for i in range(0,19):\n",
        "                      if worksheet[\"B\"+str(2+i)].value:\n",
        "                        DrawingsNums = 1 + DrawingsNums\n",
        "                      else:\n",
        "                          break\n",
        "                    print(\"文件數量\",DrawingsNums)\n",
        "\n",
        "                    #讀取資料\n",
        "                    for i in range(0,DrawingsNums):\n",
        "                        #print(\"讀取路徑\", file_path, \"第\",i+1,\"個檔案\", )\n",
        "                        #●●注意因為.xlsb轉檔為.xlsx，所以位置A>B, B>C●●\n",
        "                        DrawingNo_value = worksheet[\"E\"+str(2+i)].value#E2\n",
        "                        Drawing_Title_value = worksheet[\"F\"+str(2+i)].value\n",
        "                        DrawinVision_value = worksheet[\"G\"+str(2+i)].value\n",
        "                        Letter_Num_value = worksheet[\"B2\"].value\n",
        "                        Letter_Date_value = worksheet[\"H2\"].value\n",
        "                        Letter_titl_value = worksheet[\"O2\"].value\n",
        "                        \n",
        "                        Excute_Num_block.append(i)\n",
        "                        DrawingNo_block.append(DrawingNo_value)\n",
        "                        Drawing_Title_block.append(Drawing_Title_value)#F2\n",
        "                        DrawinVision_block.append(DrawinVision_value)#F2\n",
        "                        Letter_Num_block.append(Letter_Num_value)#來文號碼B2\n",
        "                        Letter_Date_block.append(Letter_Date_value)#來文日期H2\n",
        "                        Letter_title_block.append(Letter_titl_value)#來文標題O2\n",
        "                        file_path_block.append(file_path)\n",
        "\n",
        "                        print(\"------------------------\")\n",
        "                        print(\"批次序號\",i)\n",
        "                        print(\"圖號:\",DrawingNo_value)\n",
        "                        print(\"圖名:\",Drawing_Title_value)\n",
        "                        print(\"版次:\",DrawinVision_value)\n",
        "                        print(\"來文號碼:\", Letter_Num_value)\n",
        "                        print(\"來文日期:\", Letter_Date_value)\n",
        "                        print(\"來文名稱:\", Letter_titl_value)\n",
        "                        print(\"路徑\",file_path)\n",
        "                        print(\"------------------------\")\n",
        "                        print(x, y, z, zz)\n",
        "                        return Letter_titl_value, DrawinVision_value, Letter_Num_value, Letter_Date_value\n",
        "                    workbook.close()\n",
        "                except FileNotFoundError:\n",
        "                    # 處理找不到檔案的錯誤\n",
        "                    print(\"找不到檔案:\", file_path)\n",
        "                except openpyxl.utils.exceptions.InvalidFileException:\n",
        "                    # 處理無效的 Excel 檔案的錯誤\n",
        "                    print(\"無效的 Excel 檔案:\", file_path)\n",
        "\n",
        "    data = {'批次序號': Excute_Num_block,\n",
        "            '圖號': DrawingNo_block,\n",
        "            '圖名': Drawing_Title_block,\n",
        "            '版次': DrawinVision_block,\n",
        "            '來文號碼': Letter_Num_block,\n",
        "            '來文日期': Letter_Date_block,\n",
        "            '來文名稱': Letter_title_block,\n",
        "            '路徑': file_path_block\n",
        "            }\n",
        "    df = pd.DataFrame(data)\n",
        "\n",
        "    #輸出Excel檔案\n",
        "    OutputName = 'HT_output.xlsx'\n",
        "    Output_path = os.path.join(folder_path, OutputName)\n",
        "    df.to_excel(Output_path, index=False)\n",
        "    print(\"完成輸出檔案\\n路徑:\",Output_path,\"\\n檔名:\",OutputName)\n",
        "\n"
      ]
    },
    {
      "attachments": {},
      "cell_type": "markdown",
      "metadata": {
        "id": "8CjpALGxe9MF"
      },
      "source": [
        "#Excute"
      ]
    },
    {
      "cell_type": "code",
      "execution_count": null,
      "metadata": {
        "colab": {
          "base_uri": "https://localhost:8080/"
        },
        "id": "E5cbWurve8Md",
        "outputId": "cacb9c3a-77a6-4b73-a53b-64d5612c6d9a"
      },
      "outputs": [
        {
          "name": "stdout",
          "output_type": "stream",
          "text": [
            "------------------------\n",
            "批次序號 0\n",
            "圖號: TC0-1-UMM02-T9411\n",
            "圖名: Motor Shop test and inspection plan / procedure for Self priming Pump (Recovery Water Treatment System / Wastewater Collection System)\n",
            "版次: C\n",
            "來文號碼: TPC-TC(C0)-CD-23-1700\n",
            "來文日期: 2023/05/23\n",
            "來文名稱: Motor Shop test and inspection plan / procedure for Self priming Pump (Recovery Water Treatment System / Wastewater Collection System)\n",
            "路徑 /content/sample_data/TPC-TC(C0)-CD-23-1700.xlsm\n",
            "------------------------\n",
            "Motor Shop test and inspection plan / procedure for Self priming Pump (Recovery Water Treatment System / Wastewater Collection System) C TPC-TC(C0)-CD-23-1700 2023/05/23\n",
            "完成輸出檔案\n",
            "路徑: /content/sample_data/HT_output.xlsx \n",
            "檔名: HT_output.xlsx\n",
            "('Motor Shop test and inspection plan / procedure for Self priming Pump (Recovery Water Treatment System / Wastewater Collection System)', 'C', 'TPC-TC(C0)-CD-23-1700', '2023/05/23')\n"
          ]
        }
      ],
      "source": [
        "#全路徑參考目錄\n",
        "Test_Path = r\"/content/sample_data/\"\n",
        "Cloud_path = r\"/content/sample_data/TC\"\n",
        "Home_path = r\"C:\\Users\\OXO\\OneDrive\\01 Book\\00 Test program\\TC\"\n",
        "Company_path = r\"D:\\\\00 興達計劃\\\\05 EPC提供資料\\\\TC/0TPC-TC(C0)-CD-23-0004\"\n",
        "path_map = {\"0\":Test_Path, \"1\" : Cloud_path, \"2\" : Home_path, \"3\" : Company_path}\n",
        "#調試路徑\n",
        "\n",
        "\n",
        "#qwe = input(\"請輸入路徑(因程式尚未完成，暫時性方案):\\n測試路徑 0\\n雲端路徑 1\\n家庭路徑 2\\n公司路徑3\\n \")\n",
        "#The_Excel_folder = path_map[qwe]\n",
        "result0 = Read_TC_Excel(Test_Path)\n",
        "result1 = Read_HT_Excel(Test_Path)\n",
        "print(result0)"
      ]
    },
    {
      "attachments": {},
      "cell_type": "markdown",
      "metadata": {
        "id": "9-eaNtcKYulN"
      },
      "source": [
        "#合併輸出檔案，自動分析是否重複"
      ]
    },
    {
      "attachments": {},
      "cell_type": "markdown",
      "metadata": {
        "id": "VgyBr5u_GHKa"
      },
      "source": [
        "#文字輸出，生成文稿"
      ]
    },
    {
      "cell_type": "code",
      "execution_count": null,
      "metadata": {
        "colab": {
          "base_uri": "https://localhost:8080/"
        },
        "id": "gXFcPXWx0Gx4",
        "outputId": "eddfa5cf-2604-40a2-9046-f7d8bb9e7ec8"
      },
      "outputs": [
        {
          "name": "stdout",
          "output_type": "stream",
          "text": [
            "----------------他單位審查意見簽辦------------------\n",
            "本文係中部施工處對統包商提送「Motor Shop test and inspection plan / procedure for Self priming Pump (Recovery Water Treatment System / Wastewater Collection System)」Rev.C所提審查意見(共3頁)，未逾合約規範，已電傳泰興公司，擬陳閱後文存。\n",
            "----------------傳真------------------\n",
            "檢送台中電廠燃氣機組更新改建計畫Motor Shop test and inspection plan / procedure for Self priming Pump (Recovery Water Treatment System / Wastewater Collection System)Rev.C，中部施工處之審查意見（如附，共3頁）供卓參，請查照。\n",
            "依據GE/CTCI 112年05月23日TPC-TC(C0)-CD-23-1700號辦理。\n",
            "----------------主辦簽辦------------------\n",
            "本文係統包商提送「Motor Shop test and inspection plan / procedure for Self priming Pump (Recovery Water Treatment System / Wastewater Collection System)」Rev.C，本組無意見，已Email通知泰興公司公司，擬陳閱後文存。\n"
          ]
        }
      ],
      "source": [
        "import datetime#處理年月用\n",
        "\n",
        "#-----------------在此輸入ReadHT結果------------------\"\n",
        "Doc_content = result0[0]\n",
        "Doc_Vision = result0[1]\n",
        "Doc_No = result0[2]\n",
        "Doc_Date = result0[3]\n",
        "\n",
        "#-----------------在此輸入相關對象結果------------------\"\n",
        "My_company_num = Consult_Company_num = 2\n",
        "My_company = [\"\", \"南部施工處\", \"中部施工處\", \"興達發電廠\", \"台中發電廠\"]\n",
        "Consult_Company = [\"\", \"吉興公司\", \"泰興公司\", \"GE/CTCI\"]\n",
        "Pages = 3\n",
        "\n",
        "date_obj = datetime.datetime.strptime(Doc_Date, \"%Y/%m/%d\")\n",
        "month = date_obj.strftime(\"%m\")\n",
        "day = date_obj.strftime(\"%d\")\n",
        "\n",
        "Plan_Name = \"興達\" if \"CTC\" in Doc_No else \"台中\"\n",
        "contents0 = \"本文係\" + My_company[My_company_num] + \"對統包商提送「\" + Doc_content + \"」\" + \"Rev.\" + Doc_Vision +\"所提審查意見(共\" + str(Pages) + \"頁)\" + \"，未逾合約規範，已電傳\" + Consult_Company[Consult_Company_num] + \"，擬陳閱後文存。\"\n",
        "contents1 = \"檢送\" + Plan_Name + \"電廠燃氣機組更新改建計畫\" + Doc_content + \"Rev.\" + Doc_Vision + \"，\" + My_company[My_company_num] + \"之審查意見（如附，共\" + str(Pages) + \"頁）供卓參，請查照。\"\n",
        "contents2 = \"依據GE/CTCI 112年\" + month + \"月\" + day +\"日\" + Doc_No + \"號辦理。\"\n",
        "contents4 = \"本文係統包商提送「\" + Doc_content + \"」\" + \"Rev.\" + Doc_Vision +\"，本組無意見，已Email通知\" + Consult_Company[Consult_Company_num] + \"公司\" + \"，擬陳閱後文存。\"\n",
        "print(\"----------------他單位審查意見簽辦------------------\")\n",
        "print(contents0)\n",
        "print(\"----------------傳真------------------\")\n",
        "print(contents1)\n",
        "print(contents2)\n",
        "print(\"----------------主辦簽辦------------------\")\n",
        "print(contents4)"
      ]
    },
    {
      "attachments": {},
      "cell_type": "markdown",
      "metadata": {
        "id": "JqPXgYkgjLIx"
      },
      "source": [
        "# 封裝"
      ]
    },
    {
      "cell_type": "code",
      "execution_count": null,
      "metadata": {
        "id": "kaSRbIWirRaZ"
      },
      "outputs": [],
      "source": [
        "pip install pyinstaller\n",
        "cd C:\\Users\\OXO\\OneDrive\\01 Book\\00 Test program\n",
        "pyinstaller -F Pack.py"
      ]
    },
    {
      "attachments": {},
      "cell_type": "markdown",
      "metadata": {
        "id": "byeYAMGrWCCD"
      },
      "source": [
        "#Test"
      ]
    },
    {
      "cell_type": "code",
      "execution_count": null,
      "metadata": {
        "colab": {
          "base_uri": "https://localhost:8080/"
        },
        "id": "tVeqGq7E8CLD",
        "outputId": "55f84af7-8957-4400-d7b1-dd8c38294067"
      },
      "outputs": [
        {
          "name": "stdout",
          "output_type": "stream",
          "text": [
            "[2]\n"
          ]
        }
      ],
      "source": [
        "DrawingNo_block = []\n",
        "t = [1,2]\n",
        "DrawingNo_value = t[1]#E2\n",
        "DrawingNo_block.append(DrawingNo_value)\n",
        "print(DrawingNo_block)"
      ]
    },
    {
      "attachments": {},
      "cell_type": "markdown",
      "metadata": {
        "id": "kIYpFYKrqC5_"
      },
      "source": [
        "合併新檔、舊檔\n"
      ]
    },
    {
      "cell_type": "code",
      "execution_count": null,
      "metadata": {
        "id": "KCy6mFybqLyI"
      },
      "outputs": [],
      "source": [
        "import pandas as pd\n",
        "\n",
        "# 將 Excel 檔案讀取為 Pandas DataFrame\n",
        "df_A = pd.read_excel(\"/content/sample_data/1.xlsx\")\n",
        "df_B = pd.read_excel(\"/content/sample_data/2.xlsx\")\n",
        "\n",
        "# 合併 DataFrame, 並使用 drop_duplicate() 刪除重複的行\n",
        "df_merged = pd.concat([df_A, df_B]).drop_duplicates()\n",
        "\n",
        "# 將合併後的 DataFrame 寫入新的 Excel 檔案\n",
        "df_merged.to_excel(\"/content/sample_data/merged.xlsx\", index=False)\n"
      ]
    }
  ],
  "metadata": {
    "colab": {
      "collapsed_sections": [
        "f8TwoWN5L_bX"
      ],
      "provenance": []
    },
    "kernelspec": {
      "display_name": "Python 3",
      "name": "python3"
    },
    "language_info": {
      "codemirror_mode": {
        "name": "ipython",
        "version": 3
      },
      "file_extension": ".py",
      "mimetype": "text/x-python",
      "name": "python",
      "nbconvert_exporter": "python",
      "pygments_lexer": "ipython3",
      "version": "3.9.0"
    }
  },
  "nbformat": 4,
  "nbformat_minor": 0
}
